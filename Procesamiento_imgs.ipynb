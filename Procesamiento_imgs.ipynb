{
  "cells": [
    {
      "cell_type": "markdown",
      "metadata": {
        "id": "rHLcriKWLRe4"
      },
      "source": [
        "<div style=\"text-align: center;\">\n",
        "    <img src=\"https://mejores.com/wp-content/uploads/2020/08/Universidad-Tecnica-Federico-Santa-Maria.jpg\" title=\"Title text\" width=\"20%\" height=\"20%\" />\n",
        "</div>\n",
        "\n",
        "\n",
        "\n",
        "<hr style=\"height:2px;border:none\"/>\n",
        "<h1 align='center'> Procesamiento y Visualización de Imágenes-2025 </h1>\n",
        "\n",
        "<H3 align='center'> Procesamiento y limpieza de datos </H3>\n",
        "<hr style=\"height:2px;border:none\"/>\n",
        "\n",
        "\n",
        "**Objetivos de aprendizaje:**\n",
        "  * Importar, Acceder y manipular imágenes\n",
        "  \n",
        "<hr style=\"height:2px;border:none\"/>"
      ]
    },
    {
      "cell_type": "markdown",
      "metadata": {
        "id": "oa5wfZT7VHJl"
      },
      "source": [
        "## Brain Cancer – MRI Dataset\n",
        "\n",
        "Este conjunto de datos es una colección exhaustiva de imágenes de resonancia magnética (MRI) clasificadas en tres categorías:\n",
        "\n",
        "- **Brain_Glioma**: 2004 imágenes  \n",
        "- **Brain_Menin**: 2004 imágenes  \n",
        "- **Brain_Tumor**: 2048 imágenes  \n",
        "\n",
        "En total, son **6056 imágenes**, todas redimensionadas a **512×512 píxeles**. Fueron recolectadas en varios hospitales de Bangladesh con la colaboración directa de **profesionales médicos experimentados**, asegurando así su precisión y relevancia. Debido a la dificultad de acceder a este tipo de datos, este recurso resulta especialmente valioso para el desarrollo y la evaluación de herramientas de diagnóstico.\n",
        "\n",
        "\n",
        "### Potenciales Aplicaciones\n",
        "\n",
        "- **Procesamiento de imágenes**  \n",
        "  Mejora y análisis de resonancias magnéticas para resaltar detalles clínicos.\n",
        "\n",
        "- **Aprendizaje profundo**  \n",
        "  Entrenamiento de redes neuronales (CNN, transfer learning) para la clasificación automatizada y detección de tumores cerebrales.\n",
        "- **Machine Learning**  \n",
        "  Desarrollo de modelos predictivos para el diagnóstico temprano y la planificación de tratamientos.\n",
        "  Entrenamiento de modelos de clasificación (CNN, transfer learning, etc.)  \n",
        "\n",
        " El dataset utilizado es [Brain Cancer – MRI Dataset](https://www.kaggle.com/datasets/orvile/brain-cancer-mri-dataset?resource=download)."
      ]
    },
    {
      "cell_type": "code",
      "execution_count": null,
      "metadata": {},
      "outputs": [],
      "source": [
        "#!pip install --upgrade Pillow # en caso de tener error en la libreria \n"
      ]
    },
    {
      "cell_type": "code",
      "execution_count": null,
      "metadata": {},
      "outputs": [],
      "source": [
        "import numpy as np\n",
        "import matplotlib.pyplot as plt\n",
        "import matplotlib.image as mpimg\n",
        "import os\n",
        "from pathlib import Path\n",
        "\n",
        "\n",
        "base_dir = Path(\"Brain Cancer - MRI dataset/Brain_Cancer raw MRI data/Brain_Cancer\")\n",
        "folders  = ['brain_glioma', 'brain_menin', 'brain_tumor']\n",
        "\n",
        "dataset = list()\n",
        "for folder in folders:\n",
        "    folder_path = base_dir / folder\n",
        "    \n",
        "    jpg_files = list(folder_path.glob(\"*.jpg\")) # lista de archivos JPG\n",
        "    print(f\"{folder}: {len(jpg_files)} imágenes\")\n",
        "\n",
        "    for file in jpg_files[:50]:\n",
        "        # solo cargar primeras 50 imgs por clase\n",
        "        dataset.append(mpimg.imread(str(file)))\n",
        "dataset = np.array(dataset)\n",
        "dataset = dataset[:,:,:,1]       \n"
      ]
    },
    {
      "cell_type": "code",
      "execution_count": null,
      "metadata": {},
      "outputs": [],
      "source": [
        "def visualize_imgs(dataset, clase, n = 4):\n",
        "    if clase == folders[0]:\n",
        "        n1=0\n",
        "    elif clase == folders[1]:\n",
        "        n1 = 50\n",
        "    elif clase == folders[2]:\n",
        "        n1 = 100\n",
        "    fig, axes = plt.subplots(1, n, figsize=(3*n, 3))    \n",
        "    for ax, img in zip(axes, dataset[n1:n1+n]):\n",
        "        ax.imshow(img, cmap='gray')\n",
        "        ax.set_title(clase, fontsize=8)\n",
        "        ax.axis('off')\n",
        "    plt.tight_layout()"
      ]
    },
    {
      "cell_type": "code",
      "execution_count": null,
      "metadata": {},
      "outputs": [],
      "source": [
        "visualize_imgs(dataset, folders[0])\n",
        "visualize_imgs(dataset, folders[1])\n",
        "visualize_imgs(dataset, folders[2])"
      ]
    },
    {
      "cell_type": "markdown",
      "metadata": {},
      "source": [
        "# Ejercicios:\n",
        "\n",
        "1. **Conversión y normalización**  \n",
        "   - Reescalar o normalizar valores de píxel a \\[0,1\\]. \n",
        "     2. Seleccione un tipo de normalización y aplique dicha técnica sobre el dataset.\n",
        "     3. Verificar los valores de salida del array resultante.\n",
        "\n",
        "- Tenga en cuenta que las funciones de sklearn.preprocessing trabajan con array de máximo 2D.\n",
        " "
      ]
    },
    {
      "cell_type": "code",
      "execution_count": null,
      "metadata": {},
      "outputs": [],
      "source": [
        "# Escribe tu código aquí:"
      ]
    },
    {
      "cell_type": "markdown",
      "metadata": {},
      "source": [
        "# Actividad para la próxima clase.\n",
        "\n",
        "Generar un array de etiquetas (target). Para esto, construir un vector `y` de longitud 150 donde las primeras 50 posiciones correspondan a la clase 0 (Brain_Glioma), las siguientes 50 a la clase 1 (Brain_Menin) y las últimas 50 a la clase 2 (Brain_Tumor).\n",
        "\n",
        "1. **Definir las clases**  \n",
        "   ```python\n",
        "   class_names = ['brain_glioma', 'brain_menin', 'brain_tumor']\n",
        "   samples_per_class = 50\n"
      ]
    }
  ],
  "metadata": {
    "colab": {
      "collapsed_sections": [
        "JndnmDMp66FL",
        "YHIWvc9Ms-Ll",
        "TJffr5_Jwqvd"
      ],
      "name": "intro_to_pandas.ipynb",
      "provenance": []
    },
    "kernelspec": {
      "display_name": "Python 3",
      "name": "python3"
    },
    "language_info": {
      "codemirror_mode": {
        "name": "ipython",
        "version": 3
      },
      "file_extension": ".py",
      "mimetype": "text/x-python",
      "name": "python",
      "nbconvert_exporter": "python",
      "pygments_lexer": "ipython3",
      "version": "3.9.6"
    }
  },
  "nbformat": 4,
  "nbformat_minor": 0
}
