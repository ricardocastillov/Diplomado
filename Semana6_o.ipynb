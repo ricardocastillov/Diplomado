{
 "cells": [
  {
   "cell_type": "markdown",
   "metadata": {
    "id": "ksDMQevI1ha-"
   },
   "source": [
    "#         **Semana 6 Introducción a la programación con Python**"
   ]
  },
  {
   "cell_type": "markdown",
   "metadata": {
    "id": "LnKzxbbT1mag"
   },
   "source": [
    "Esta semana analizaremos:\n",
    "\n",
    "**Control de versiones:**\n",
    "* ¿Por qué es importante?\n",
    "* Git y GitHub.\n",
    "* ¿Cómo configurar Git y GitHub?\n",
    "\n",
    "**Entornos virtuales**\n",
    "* Qué son y para qué sirven.\n",
    "* ¿Por qué usar entornos virtuales?\n",
    "* Cómo funciona Python en los entornos virtuales.\n",
    "* Ejemplos de entornos virtuales.\n",
    "* Jupyter Notebook.\n",
    "* Diferencias y similitudes entre Google Colab y Jupyter Notebook.\n",
    "* Configuración de Miniconda y Jupyter Notebook."
   ]
  },
  {
   "cell_type": "markdown",
   "metadata": {
    "id": "ZBcshXmZ7I89"
   },
   "source": [
    "## **Control de versiones**"
   ]
  },
  {
   "cell_type": "markdown",
   "metadata": {
    "id": "fH-RebRD8aTb"
   },
   "source": [
    "### **Contexto**"
   ]
  },
  {
   "cell_type": "markdown",
   "metadata": {
    "id": "SY0c3l1LeWZ9"
   },
   "source": [
    "Imaginemos el siguiente escenario:\n",
    "\n",
    "Estamos trabajando en un proyecto colaborativo y:\n",
    "* Alguien borra accidentalmente un archivo.\n",
    "* Alguien escribe en una versión antigua y sobreescribe los cambios recientes.\n",
    "* Alguien más quiere ver quién escribió o cuándo se hicieron los cambios.\n",
    "* Todos envían sus cambios por correo electrónico, y se pierden entre tantas versiones.\n",
    "\n",
    "**Para evitar estos problemas podemos usar herramientas que nos permitan:**\n",
    "\n",
    "* Guarda automáticamente cada versión de los archivos del proyecto.\n",
    "* Mostar quién hizo qué cambio y cuándo.\n",
    "* Permitir a todos trabajar en paralelo sin borrar el trabajo de los demás.\n",
    "* Fusionar los cambios automáticamente."
   ]
  },
  {
   "cell_type": "markdown",
   "metadata": {
    "id": "6Uh5K4mmVDT_"
   },
   "source": [
    "### **Git y GitHub**\n",
    "\n"
   ]
  },
  {
   "cell_type": "markdown",
   "metadata": {
    "id": "5XIS0kWVWurf"
   },
   "source": [
    "Git es un sistema de control de versiones local.\n",
    "\n",
    "GitHub permite colaborar en línea con otros, asegurando que todos los cambios estén sincronizados y almacenados de forma segura.\n",
    "\n",
    "Veamos el siguiente [ejemplo](https://drive.google.com/file/d/1_R02l5o49WvMOGg1j1Wgg8mm-Xtq9O1J/view?usp=sharing).\n",
    "\n",
    "**Opción 1: solo usar GitHub (en la nube)**\n",
    "* GitHub tiene su propio editor y herramientas web para realizar muchas de las acciones de Git: crear repositorios, editar archivos, hacer commits, fusionar ramas, etc.\n",
    "* Todo se maneja directamente desde la interfaz web o aplicaciones como GitHub Desktop.\n",
    "* No necesitamos  instalar Git localmente.\n",
    "* Ideal para personas que no están acostumbradas a usar terminales o comandos.\n",
    "* No tenemos acceso a las herramientas avanzadas de Git local, como revisión de cambios antes de hacer un commit.\n",
    "* Es difícil trabajar sin conexión a Internet.\n",
    "* Para proyectos grandes, gestionar cambios directamente en la web puede ser engorroso.\n",
    "\n",
    "**Opción 2: usar Git localmente y sincronizar con GitHub**\n",
    "* Git local se utiliza para gestionar los cambios en nuestro equipo.\n",
    "* GitHub actúa como un servicio de almacenamiento remoto y colaboración (subor cambios o descargar cambios de otros).\n",
    "* Permite el control total sobre el historial y los cambios en nuestra máquina.\n",
    "* Podemos trabajar sin conexión y sincronizar cuando tengamos  Internet.\n",
    "* Ideal para proyectos grandes o con múltiples colaboradores.\n",
    "* Requiere instalar Git y aprender comandos básicos.\n",
    "\n",
    "\n",
    "**¿Qué pasa si alguien solamente usa GitHub y otros usan Git localmente?**\n",
    "* Si alguien edita un archivo directamente en GitHub y otro usuario trabaja en el mismo archivo desde Git local, habrá conflictos cuando intenten fusionar los cambios.\n",
    "* Los usuarios locales pueden revisar sus cambios antes de enviarlos a GitHub, pero los usuarios que trabajan directamente en la nube no tienen este control detallado.\n",
    "* Sin Git local, no podemos trabajar fácilmente en ramas o usar herramientas de resolución de conflictos.\n",
    "* Si el proyecto es pequeño y las ediciones son simples, trabajar directamente en GitHub es suficiente."
   ]
  },
  {
   "cell_type": "markdown",
   "metadata": {
    "id": "gJQUfyRsVk5O"
   },
   "source": [
    "#### **¿Cómo configurar Git y GitHub?**"
   ]
  },
  {
   "cell_type": "markdown",
   "metadata": {
    "id": "-Sz6f2xSWgyr"
   },
   "source": [
    "> [Comandos](https://docs.google.com/spreadsheets/d/1OFx9zoJNwWwGRifCl5bwlgphFaeqbibL/edit?usp=sharing&ouid=115995864785264317183&rtpof=true&sd=true) para trabajar con Git y GitHub\n",
    "\n",
    ">[Vídeo](https://drive.google.com/file/d/1VDZUNhD74pSuPAasmOFY9FeSEwo7wjln/view?usp=sharing) para usar Git y GitHub en Windows\n",
    "\n",
    "> [Guía](https://docs.github.com/en/desktop/installing-and-authenticating-to-github-desktop/installing-github-desktop?platform=mac) para instalar GitHub Desktop  "
   ]
  },
  {
   "cell_type": "markdown",
   "metadata": {
    "id": "x49TA1dBV1vV"
   },
   "source": [
    "#### **Desafío**"
   ]
  },
  {
   "cell_type": "markdown",
   "metadata": {
    "id": "QxFQanAeW7MK"
   },
   "source": [
    "* Configurar una cuenta y repositorio en GitHub.\n",
    "* Instalar Git.\n",
    "* Conectar Git con GitHub."
   ]
  },
  {
   "cell_type": "markdown",
   "metadata": {
    "id": "gngM6S1-eMcr"
   },
   "source": [
    "## **Entornos virtuales**"
   ]
  },
  {
   "cell_type": "markdown",
   "metadata": {
    "id": "Nc1mTP5wSy6U"
   },
   "source": [
    "###**Qué son y para qué sirven**\n"
   ]
  },
  {
   "cell_type": "markdown",
   "metadata": {
    "id": "wXJZkZICd2TA"
   },
   "source": [
    "Un entorno virtual en Python es un espacio aislado en que podemos instalar librerías y dependencias necesarias para un proyecto sin afectar otros proyectos ni el sistema operativo.\n",
    "\n",
    "**¿Por qué usar entornos virtuales?**\n",
    "* Los entornos virtuales son esenciales para aislar las dependencias de un proyecto y evitar conflictos entre diferentes versiones de librerías.\n",
    "* Por ejemplo, imaginemos que tenemos dos proyectos: uno usa Pandas 2.2.3 y otro necesita Pandas 2.2.1. Si instalamos ambas versiones en la máquina, podríamos enfrentar errores al ejecutar el proyecto que no coincide con la versión instalada.\n",
    "* Con un entorno virtual para cada proyecto, podemos instalar la versión correcta de Pandas sin afectar los demás proyectos.\n",
    "* Esto asegura que cada entorno funcione de manera independiente, promoviendo estabilidad y reproducibilidad del código.\n",
    "\n"
   ]
  },
  {
   "cell_type": "markdown",
   "metadata": {
    "id": "soA6ciN9ZYXi"
   },
   "source": [
    "###**Ejemplos de entornos virtuales**"
   ]
  },
  {
   "cell_type": "markdown",
   "metadata": {
    "id": "qBEQ2KUDZk64"
   },
   "source": [
    "1. **Anaconda**\n",
    "\n",
    "Plataforma de distribución gratuita y de código abierto para Python y R, diseñada especialmente para la ciencia de datos, el aprendizaje automático y el análisis de datos. Incluye un conjunto de herramientas, librerías y entornos virtuales que facilitan la instalación y el manejo de dependencias para proyectos complejos.\n",
    "\n",
    "2. **Miniconda**\n",
    "* Es una versión ligera de Anaconda que incluye: un administrador de entornos virtuales (conda); una instalación mínima de Python.\n",
    "\n",
    "\n",
    "**Jupyter Notebook**\n",
    "* Es una aplicación web que permite crear y compartir documentos que contienen código, texto, gráficos y cálculos interactivos.\n",
    "* Ideal para análisis de datos y proyectos en Python.\n",
    "* Se puede ejecutar código por bloques (celdas), facilitando el trabajo interactivo."
   ]
  },
  {
   "cell_type": "markdown",
   "metadata": {
    "id": "mmFKe3pEZ972"
   },
   "source": [
    "###**Cómo funciona Python en los entornos virtuales**\n"
   ]
  },
  {
   "cell_type": "markdown",
   "metadata": {
    "id": "xzd_ZxsxZ_Y9"
   },
   "source": [
    "* Cuando se crea un entorno virtual, Python instala una copia de sí mismo y un espacio para instalar paquetes de forma aislada.\n",
    "* Python global: Es la instalación principal en nuestro equipo. Sirve como base para crear entornos virtuales.\n",
    "* Python en el entorno virtual: Cuando creamos un entorno virtual, este incluye:Una copia del intérprete de Python (misma versión que el global, salvo que especifiquemos otra); Un espacio independiente para instalar paquetes y librerías.\n",
    "\n"
   ]
  },
  {
   "cell_type": "markdown",
   "metadata": {
    "id": "5q6pvUfyaAwg"
   },
   "source": [
    "###**Diferencias y similitudes entre Google Colab y Jupyter Notebook**\n"
   ]
  },
  {
   "cell_type": "markdown",
   "metadata": {
    "id": "iAKkZi0caCDL"
   },
   "source": [
    "* Google Colab y Jupyter Notebook son herramientas que permiten escribir y ejecutar código en celdas interactivas, facilitando tareas de análisis de datos, aprendizaje automático y visualización.\n",
    "* Ambos ofrecen una interfaz amigable para combinar texto, gráficos y código.\n",
    "* Sin embargo, Colab funciona en la nube, lo que permite acceder desde cualquier dispositivo, compartir proyectos fácilmente y aprovechar recursos sin necesidad de hardware local potente.\n",
    "* En cambio, Jupyter Notebook se ejecuta localmente, lo que brinda mayor control sobre el entorno y las dependencias, pero requiere configurar Python y librerías en nuestro entorno local.\n",
    "\n",
    "\n"
   ]
  },
  {
   "cell_type": "markdown",
   "metadata": {
    "id": "BcfZxLK1aDal"
   },
   "source": [
    "####**Configuración de Miniconda y Jupyter Notebook**\n",
    "\n"
   ]
  },
  {
   "cell_type": "markdown",
   "metadata": {
    "id": "5GNBP45Iaa8X"
   },
   "source": [
    "> Guía con [comandos básicos](https://drive.google.com/file/d/1QWmaNqQYtmtLIDv8jcYkyzNQnTs3KZPB/view?usp=sharing)\n",
    "\n",
    "> Configuración en [Windows](https://drive.google.com/file/d/1IUvSgKrVRiyR3qZJbXNO7LQLSLkfzOWC/view?usp=sharing)\n",
    "\n",
    "> Configuración en [mac](https://www.youtube.com/watch?v=D7y88ZAGy3c)"
   ]
  },
  {
   "cell_type": "markdown",
   "metadata": {
    "id": "xdyuar7Bacg8"
   },
   "source": [
    "####**Desafío**"
   ]
  },
  {
   "cell_type": "markdown",
   "metadata": {
    "id": "x_v1ZTEJadoV"
   },
   "source": [
    "* Instalar miniconda.\n",
    "* Crear un entorno virtual.\n",
    "* Abrir Jupyter Notebook.\n",
    "* Escribir un código sencillo.\n",
    "* ¿Cómo respaldar mi notebook de Jupyter en Git y GitHub?\n",
    "* ¿Puedo abrir un cuaderno de Colab en Jupyter Notebook?"
   ]
  }
 ],
 "metadata": {
  "colab": {
   "collapsed_sections": [
    "5viyn7TQ4m0u",
    "5_ospYK-ZCLS",
    "-2zJ73f1YYw8",
    "JgZO8oPu7ZFj",
    "ZBcshXmZ7I89",
    "fH-RebRD8aTb",
    "6Uh5K4mmVDT_",
    "x49TA1dBV1vV",
    "gngM6S1-eMcr",
    "Nc1mTP5wSy6U",
    "soA6ciN9ZYXi",
    "mmFKe3pEZ972",
    "5q6pvUfyaAwg",
    "BcfZxLK1aDal",
    "xdyuar7Bacg8"
   ],
   "provenance": []
  },
  "kernelspec": {
   "display_name": "Python 3 (ipykernel)",
   "language": "python",
   "name": "python3"
  },
  "language_info": {
   "codemirror_mode": {
    "name": "ipython",
    "version": 3
   },
   "file_extension": ".py",
   "mimetype": "text/x-python",
   "name": "python",
   "nbconvert_exporter": "python",
   "pygments_lexer": "ipython3",
   "version": "3.10.18"
  }
 },
 "nbformat": 4,
 "nbformat_minor": 4
}
