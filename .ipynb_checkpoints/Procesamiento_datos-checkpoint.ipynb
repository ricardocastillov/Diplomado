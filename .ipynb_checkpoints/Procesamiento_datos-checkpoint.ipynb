{
 "cells": [
  {
   "cell_type": "markdown",
   "metadata": {
    "id": "rHLcriKWLRe4"
   },
   "source": [
    "<div style=\"text-align: center;\">\n",
    "    <img src=\"https://mejores.com/wp-content/uploads/2020/08/Universidad-Tecnica-Federico-Santa-Maria.jpg\" title=\"Title text\" width=\"20%\" height=\"20%\" />\n",
    "</div>\n",
    "\n",
    "\n",
    "\n",
    "<hr style=\"height:2px;border:none\"/>\n",
    "<h1 align='center'> Procesamiento y Visualización de Datos-2025 </h1>\n",
    "\n",
    "<H3 align='center'> Procesamiento y limpieza de datos </H3>\n",
    "<hr style=\"height:2px;border:none\"/>\n",
    "\n",
    "\n",
    "**Objetivos de aprendizaje:**\n",
    "  * Acceder y manipular datos dentro de `DataFrame`\n",
    "  * Importar datos CSV a un `DataFrame` de *Pandas*\n",
    "\n",
    "<hr style=\"height:2px;border:none\"/>"
   ]
  },
  {
   "cell_type": "markdown",
   "metadata": {
    "id": "oa5wfZT7VHJl"
   },
   "source": [
    "# *Dataset*\n",
    "El principal conjunto de datos utilizado es «Salary Data.csv», que engloba varias características:\n",
    "\n",
    "- **Edad:** La edad de los empleados.\n",
    "- **Años de experiencia:** La experiencia laboral total de los empleados.\n",
    "- **Sexo:** El sexo de los empleados.\n",
    "- **Cargo:** La designación o función de los empleados.\n",
    "- **Nivel de estudios:** La titulación educativa más alta de los empleados.\n",
    "- **Salario:** El salario anual de los empleados (nuestra variable objetivo).\n",
    "\n",
    " Cargar un archivo completo en un `DataFrame`. El siguiente ejemplo carga un archivo con datos de viviendas de California. Ejecuta la siguiente celda para cargar los datos y crear definiciones de funciones:\n",
    "\n",
    " El dataset utilizado es [Salary Data.csv](https://raw.githubusercontent.com/alavi-sam/salary-prediction/main/Salary%20Data.csv) del repositorio [alavi-sam/salary-prediction](https://github.com/alavi-sam/salary-prediction)."
   ]
  },
  {
   "cell_type": "code",
   "execution_count": null,
   "metadata": {
    "colab": {
     "base_uri": "https://localhost:8080/",
     "height": 300
    },
    "id": "av6RYOraVG1V",
    "outputId": "c49720db-9c61-492c-df10-e4e8c27cd174"
   },
   "outputs": [],
   "source": [
    "import pandas as pd\n",
    "import numpy as np\n",
    "import random\n",
    "import matplotlib.pyplot as plt\n",
    "import seaborn  as sns\n",
    "\n",
    "df = pd.read_csv('Salary Data.csv')\n",
    "print(df.shape)\n",
    "df.head()"
   ]
  },
  {
   "cell_type": "markdown",
   "metadata": {},
   "source": [
    "- `df.info()` : Retorna información (número de filas, número de columnas, índices, tipo de las columnas y memoria usada) sobre el `DataFrame` df.\n",
    "- `df.shape` : Retorna una tupla con el número de filas y columnas del `DataFrame` df.\n",
    "- `df.size` : Retorna el número de elementos del `DataFrame`.\n",
    "- `df.columns` : Retorna una lista con los nombres de las columnas del `DataFrame` df.\n",
    "- `df.index` : Retorna una lista con los nombres de las filas del `DataFrame` df.\n",
    "- `df.dtypes` : Retorna una serie con los tipos de datos de las columnas del `DataFrame` df.\n",
    "- `df.head(n)` : Retorna las `n` primeras filas del `DataFrame` df.\n",
    "- `df.tail(n)` : Retorna las `n` últimas filas del `DataFrame` df.\n"
   ]
  },
  {
   "cell_type": "code",
   "execution_count": null,
   "metadata": {},
   "outputs": [],
   "source": [
    "df.info()"
   ]
  },
  {
   "cell_type": "markdown",
   "metadata": {},
   "source": [
    "## Contar los valores únicos en cada columna categórica"
   ]
  },
  {
   "cell_type": "code",
   "execution_count": null,
   "metadata": {},
   "outputs": [],
   "source": [
    "for col in ('Gender', 'Education Level', 'Job Title'):\n",
    "    print(f'en la columna {col} hay {df[col].nunique()} valores únicos.')"
   ]
  },
  {
   "cell_type": "markdown",
   "metadata": {},
   "source": [
    "# Seleccionar columnas\n",
    "\n",
    "Se crea un nuevo DataFrame `x` a partir de df, descartando las columnas `\"Gender\"` y `\"Job Title\"` (`axis=1` indica que se eliminan columnas, no filas)."
   ]
  },
  {
   "cell_type": "code",
   "execution_count": null,
   "metadata": {},
   "outputs": [],
   "source": [
    "x  = df.drop(['Gender', 'Job Title'], axis = 1)\n",
    "x.head()"
   ]
  },
  {
   "cell_type": "markdown",
   "metadata": {},
   "source": [
    "## Seleccionar filas y columnas en Pandas mediante posición con `iloc`\n",
    "\n",
    "El método `iloc` se utiliza en los DataFrames para seleccionar los elementos en base a su ubicación. \n",
    "\n",
    "Su sintaxis es:\n",
    "\n",
    "- `data.iloc[<filas>, <columnas>]`, donde `<filas>` y `<columnas>` son la posición de las filas y columnas que se desean seleccionar en el orden que aparecen en el objeto. Una notación familiar para los usuarios de Matlab.\n"
   ]
  },
  {
   "cell_type": "code",
   "execution_count": null,
   "metadata": {},
   "outputs": [],
   "source": [
    "print(df.iloc[0]) # Primera fila\n",
    "df.iloc[1] # Segunda fila\n",
    "dfa = df.iloc[-1] # Última fila\n",
    "dfa.head()"
   ]
  },
  {
   "cell_type": "code",
   "execution_count": null,
   "metadata": {},
   "outputs": [],
   "source": [
    "print(df.head())\n",
    "df.iloc[0:5] # Primeras cinco filas\n",
    "df.iloc[:, 0:5] # Primeras cinco columnas\n",
    "df.iloc[[0,2,1]]  # Primera, tercera y segunda filas\n",
    "df.iloc[:, [0,2,1]]  # Primera, tercera y segunda columnas"
   ]
  },
  {
   "cell_type": "markdown",
   "metadata": {},
   "source": [
    "## Seleccionar filas y columnas en Pandas en base a etiquetas con `loc`\n",
    "\n",
    "El método `loc` se puede usar de dos formas diferentes: \n",
    "\n",
    "1. **Seleccionar filas o columnas en base a una etiqueta:** Puedes seleccionar una o varias filas o columnas especificando las etiquetas correspondientes.\n",
    "\n",
    "2. **Seleccionar filas o columnas en base a una condición:** También puedes seleccionar filas o columnas que cumplan con una condición específica, lo que permite filtrar los datos de manera flexible.\n"
   ]
  },
  {
   "cell_type": "code",
   "execution_count": null,
   "metadata": {},
   "outputs": [],
   "source": [
    "df.head()"
   ]
  },
  {
   "cell_type": "markdown",
   "metadata": {},
   "source": [
    "Por ejemplo, si se han seleccionado las filas del 1 al 4 y se carga el resultado en un nuevo DataFrame a la hora de acceder a la fila 1 con loc se tendrá la primera del nuevo objeto mientras que iloc devolverá la segunda. Esto es así porque los índices se conservan, pero no las posiciones."
   ]
  },
  {
   "cell_type": "code",
   "execution_count": null,
   "metadata": {},
   "outputs": [],
   "source": [
    "df_sub = df.loc[1:4]\n",
    "df_sub"
   ]
  },
  {
   "cell_type": "markdown",
   "metadata": {},
   "source": [
    "En resumen, `loc` usa las etiquetas del índice, mientras que `iloc` usa las posiciones numéricas de las filas o columnas. Esto puede llevar a resultados diferentes si el índice no es el índice numérico predeterminado.\n"
   ]
  },
  {
   "cell_type": "code",
   "execution_count": null,
   "metadata": {},
   "outputs": [],
   "source": [
    "print(df_sub.loc[1])\n",
    "print('')\n",
    "print(df_sub.iloc[1])"
   ]
  },
  {
   "cell_type": "markdown",
   "metadata": {},
   "source": [
    "Seleccionar columnas..."
   ]
  },
  {
   "cell_type": "code",
   "execution_count": null,
   "metadata": {},
   "outputs": [],
   "source": [
    "df.loc[:, 'Gender'] # Columna Gender\n",
    "\n",
    "df.loc[:, ['Gender', 'Salary']] #re Columnas Gender, Salary"
   ]
  },
  {
   "cell_type": "markdown",
   "metadata": {},
   "source": [
    "## Seleccionar filas o columnas en base a una condición con loc"
   ]
  },
  {
   "cell_type": "code",
   "execution_count": null,
   "metadata": {},
   "outputs": [],
   "source": [
    "is_male = df.loc[:, 'Gender'] == 'Male'\n",
    "df_male = df.loc[is_male]\n",
    "df_male.head()"
   ]
  },
  {
   "cell_type": "markdown",
   "metadata": {},
   "source": [
    "# Problemas en los datos"
   ]
  },
  {
   "cell_type": "markdown",
   "metadata": {},
   "source": [
    "### 1. Información general del DataFrame"
   ]
  },
  {
   "cell_type": "code",
   "execution_count": null,
   "metadata": {},
   "outputs": [],
   "source": [
    "print(\"Información general del DataFrame:\")\n",
    "print(df.info())"
   ]
  },
  {
   "cell_type": "markdown",
   "metadata": {},
   "source": [
    "### 2. Verificar valores faltantes (NaN)\n"
   ]
  },
  {
   "cell_type": "code",
   "execution_count": null,
   "metadata": {},
   "outputs": [],
   "source": [
    "print(\"\\nValores faltantes (NaN) por columna:\")\n",
    "print(df.isnull().sum())"
   ]
  },
  {
   "cell_type": "code",
   "execution_count": null,
   "metadata": {},
   "outputs": [],
   "source": [
    "DFN = df.fillna(0)\n",
    "\n",
    "\n",
    "print(DFN.isnull().sum())"
   ]
  },
  {
   "cell_type": "code",
   "execution_count": null,
   "metadata": {},
   "outputs": [],
   "source": [
    "col = 'Gender'\n",
    "\n",
    "moda = df[col].mode()[0]\n",
    "\n",
    "print(moda)\n",
    "df[col] = df[col].fillna(moda)\n",
    "print(df.isnull().sum())"
   ]
  },
  {
   "cell_type": "markdown",
   "metadata": {},
   "source": [
    "\n",
    "<details>\n",
    "  <summary>Haz clic aquí para ver la solución</summary>\n",
    "\n",
    "  ```python\n",
    "col = ['Gender', 'Education Level', 'Job Title']\n",
    "\n",
    "for c in col:\n",
    "    moda_c = df[c].mode()[0]          # extrae la moda de la columna c\n",
    "    df[c].fillna(moda_c, inplace=True)\n",
    "\n",
    "print(df.isnull().sum())\n"
   ]
  },
  {
   "cell_type": "code",
   "execution_count": null,
   "metadata": {},
   "outputs": [],
   "source": [
    "# TODO: Para las variables categóricas, reemplace los valores faltantes con la moda computada como df[c].mode()[0]\n",
    "# Escribe tu código aquí:"
   ]
  },
  {
   "cell_type": "markdown",
   "metadata": {},
   "source": [
    "### 3. Estadísticas descriptivas\n"
   ]
  },
  {
   "cell_type": "code",
   "execution_count": null,
   "metadata": {},
   "outputs": [],
   "source": [
    "print(\"\\nEstadísticas descriptivas:\")\n",
    "print(df.describe())\n"
   ]
  },
  {
   "cell_type": "markdown",
   "metadata": {},
   "source": [
    "### 4. Verificar tipos de datos únicos en columnas categóricas\n"
   ]
  },
  {
   "cell_type": "code",
   "execution_count": null,
   "metadata": {},
   "outputs": [],
   "source": [
    "print(\"\\nValores únicos en columnas categóricas:\")\n",
    "for col in ['Gender', 'Education Level']:#, 'Job Title']:\n",
    "    print(f\"\\n{col}: {df[col].unique()}\")"
   ]
  },
  {
   "cell_type": "markdown",
   "metadata": {},
   "source": [
    "### 5. Verificar si hay duplicados    "
   ]
  },
  {
   "cell_type": "code",
   "execution_count": null,
   "metadata": {},
   "outputs": [],
   "source": [
    "print(f\"\\nNúmero de filas duplicadas: {df.duplicated().sum()}\")"
   ]
  },
  {
   "cell_type": "code",
   "execution_count": null,
   "metadata": {},
   "outputs": [],
   "source": [
    "df.duplicated()"
   ]
  },
  {
   "cell_type": "code",
   "execution_count": null,
   "metadata": {},
   "outputs": [],
   "source": [
    "dato_370 = df.iloc[369] \n",
    "print(dato_370)"
   ]
  },
  {
   "cell_type": "code",
   "execution_count": null,
   "metadata": {},
   "outputs": [],
   "source": [
    "df_new = df.drop_duplicates()\n",
    "df_new"
   ]
  },
  {
   "cell_type": "markdown",
   "metadata": {},
   "source": [
    "### 6. Dummy variables\n",
    "\n",
    "Las **dummy variables** (o variables indicadoras) convierten una característica categórica en varias columnas binarias (0/1), una por cada categoría. Esto es necesario porque la mayoría de los algoritmos de machine learning requieren entradas numéricas y no pueden trabajar directamente con etiquetas de texto.\n",
    "\n",
    "- Representar información categórica (p. ej. género, país, tipo de producto) en forma numérica.  \n",
    "- Evitar que el algoritmo interprete un orden o magnitud donde no existe (p. ej. “rojo” > “azul”).\n",
    "\n"
   ]
  },
  {
   "cell_type": "code",
   "execution_count": null,
   "metadata": {},
   "outputs": [],
   "source": [
    "df = pd.read_csv('Salary Data.csv')\n",
    "df_dummies = pd.get_dummies(df, columns= ['Gender', 'Education Level', 'Job Title'], \n",
    "                            drop_first=True) \n",
    "df_dummies.head()\n"
   ]
  },
  {
   "cell_type": "code",
   "execution_count": null,
   "metadata": {},
   "outputs": [],
   "source": [
    "# Convertir (True→1, False→0)\n",
    "bool_cols = df_dummies.select_dtypes(include='bool').columns\n",
    "df_dummies[bool_cols] = df_dummies[bool_cols].astype(int)\n",
    "df_dummies.head()"
   ]
  },
  {
   "cell_type": "markdown",
   "metadata": {},
   "source": [
    "# Análisis exploratorio de datos\n",
    "## 1. Scatter Plot (gráfico de dispersión) para Salary y Age features\n",
    "Un gráfico de dispersión (scatter plot) muestra puntos de datos en dos dimensiones, donde cada punto representa una observación en el conjunto de datos. En este caso, podemos visualizar cómo se relacionan las características \"Salary\" (en el eje y) y \"Age\" (en el eje x)."
   ]
  },
  {
   "cell_type": "code",
   "execution_count": null,
   "metadata": {},
   "outputs": [],
   "source": [
    "plt.figure(figsize=(10, 4))\n",
    "plt.subplot(121)\n",
    "plt.scatter(df['Age'], df['Salary'], marker = '+', color = 'skyblue')\n",
    "plt.xlabel('Age')\n",
    "plt.ylabel('Salary')\n",
    "plt.title('Scatter plot for Salary and Age')\n",
    "plt.subplot(122)\n",
    "plt.scatter(df['Age'], df['Years of Experience'], marker = '+', s = 5, color = 'green')\n",
    "plt.xlabel('Age')\n",
    "plt.ylabel('Years of Experience')\n",
    "plt.title('Scatter plot for Years of Experience and Age')\n",
    "plt.show()"
   ]
  },
  {
   "cell_type": "markdown",
   "metadata": {},
   "source": [
    "## Normalización\n",
    "\n",
    "- Evita que una característica domine por su magnitud.  \n",
    "- **Convergencia**: Mejora la optimización en redes y regresión por gradiente.  \n",
    "- Esencial para PCA, LDA y regresión regularizada (relacionados con varianza).  \n",
    "- Reduce overflow/underflow y errores de precisión.  \n",
    "- **Interpretación**: Compara fácilmente coeficientes y pesos.\n",
    "\n",
    "### Consideraciones para usar normalización\n",
    "- Antes de algoritmos basados en distancia o gradiente.  \n",
    "- Antes de PCA, LDA o regularización.  \n",
    "- No necesario en árboles de decisión (Random Forest, XGBoost).  \n"
   ]
  },
  {
   "cell_type": "code",
   "execution_count": null,
   "metadata": {},
   "outputs": [],
   "source": [
    "from sklearn.preprocessing import MinMaxScaler, StandardScaler, MaxAbsScaler"
   ]
  },
  {
   "cell_type": "markdown",
   "metadata": {},
   "source": [
    "# Normalización Max"
   ]
  },
  {
   "cell_type": "code",
   "execution_count": null,
   "metadata": {},
   "outputs": [],
   "source": [
    "df = pd.read_csv('Salary Data.csv')\n",
    "print(df.shape)\n",
    "\n",
    "max_scaler = MaxAbsScaler()\n",
    "\n",
    "df[['Age', 'Salary']] = max_scaler.fit_transform(df[['Age', 'Salary']])\n",
    "\n",
    "print(\"\\nDataFrame normalizado Max:\")\n",
    "print(f\"Max 'Age' normalizado: {df['Age'].max()}\")\n",
    "print(f\"Max 'Age' original: {pd.read_csv('Salary Data.csv')['Age'].max()}\")\n",
    "df.head()"
   ]
  },
  {
   "cell_type": "markdown",
   "metadata": {},
   "source": [
    "# Normalización Min-Max\n",
    "\n",
    "1. Alternativa"
   ]
  },
  {
   "cell_type": "code",
   "execution_count": null,
   "metadata": {},
   "outputs": [],
   "source": [
    "df = pd.read_csv('Salary Data.csv')\n",
    "print(df.shape)\n",
    "\n",
    "max_scaler = MinMaxScaler()\n",
    "\n",
    "df[['Age', 'Salary']] = max_scaler.fit_transform(df[['Age', 'Salary']])\n",
    "\n",
    "print(\"\\nDataFrame normalizado Max:\")\n",
    "print(f\"Max 'Age' normalizado: {df['Age'].max()}\")\n",
    "print(f\"Max 'Age' original: {pd.read_csv('Salary Data.csv')['Age'].max()}\")\n",
    "df.head()"
   ]
  },
  {
   "cell_type": "code",
   "execution_count": null,
   "metadata": {},
   "outputs": [],
   "source": [
    "from sklearn.preprocessing import StandardScaler\n",
    "import numpy as np\n",
    "\n",
    "\n",
    "num_cols = df.select_dtypes(include=np.number).columns\n",
    "scaler =  MinMaxScaler()\n",
    "df[num_cols] = scaler.fit_transform(df[num_cols])\n",
    "print(\"\\nDataFrame normalizado Min-Max:\")\n",
    "print(f\"Max 'Age' normalizado: {df['Age'].max()}\")\n",
    "print(f\"Max 'Age' original: {pd.read_csv('Salary Data.csv')['Age'].max()}\")\n",
    "df.head()"
   ]
  },
  {
   "cell_type": "markdown",
   "metadata": {},
   "source": [
    "# Normalización Z-score\n",
    "\n",
    "## Ejercicio: \n",
    "\n",
    "1. Importe el archivo `Salary Data.csv` a un DataFrame de pandas.\n",
    "2. Filtre el DataFrame para mantener solo las columnas de tipo numérico.\n",
    "3. Aplique la transformación Z-score.\n",
    "4. Para el DataFrame estandarizado, calcule y muestre la **media** (`mean()`) y **desviación estándar** (`std()`) de cada característica."
   ]
  },
  {
   "cell_type": "code",
   "execution_count": null,
   "metadata": {},
   "outputs": [],
   "source": []
  }
 ],
 "metadata": {
  "colab": {
   "collapsed_sections": [
    "JndnmDMp66FL",
    "YHIWvc9Ms-Ll",
    "TJffr5_Jwqvd"
   ],
   "name": "intro_to_pandas.ipynb",
   "provenance": []
  },
  "kernelspec": {
   "display_name": "Python 3 (ipykernel)",
   "language": "python",
   "name": "python3"
  },
  "language_info": {
   "codemirror_mode": {
    "name": "ipython",
    "version": 3
   },
   "file_extension": ".py",
   "mimetype": "text/x-python",
   "name": "python",
   "nbconvert_exporter": "python",
   "pygments_lexer": "ipython3",
   "version": "3.10.18"
  }
 },
 "nbformat": 4,
 "nbformat_minor": 4
}
